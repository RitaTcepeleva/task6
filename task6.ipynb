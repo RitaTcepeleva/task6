{
 "cells": [
  {
   "cell_type": "markdown",
   "metadata": {},
   "source": [
    "## Данные\n",
    "\n",
    "Данные в [архиве](https://drive.google.com/file/d/15o7fdxTgndoy6K-e7g8g1M2-bOOwqZPl/view?usp=sharing). В нём два файла:\n",
    "- `news_train.txt` тренировочное множество\n",
    "- `news_test.txt` тренировочное множество\n",
    "\n",
    "С некоторых новостных сайтов были загружены тексты новостей за период  несколько лет, причем каждая новость принаделжит к какой-то рубрике: `science`, `style`, `culture`, `life`, `economics`, `business`, `travel`, `forces`, `media`, `sport`.\n",
    "\n",
    "В каждой строке файла содержится метка рубрики, заголовок новостной статьи и сам текст статьи, например:\n",
    "\n",
    ">    **sport**&nbsp;&lt;tab&gt;&nbsp;**Сборная Канады по хоккею разгромила чехов**&nbsp;&lt;tab&gt;&nbsp;**Сборная Канады по хоккею крупно об...**"
   ]
  },
  {
   "cell_type": "markdown",
   "metadata": {},
   "source": [
    "# Задача\n",
    "\n",
    "1. Обработать данные, получив для каждого текста набор токенов\n",
    "Обработать токены с помощью (один вариант из трех):\n",
    "    - pymorphy2\n",
    "    - русского [snowball стеммера](https://www.nltk.org/howto/stem.html)\n",
    "    - [SentencePiece](https://github.com/google/sentencepiece) или [Huggingface Tokenizers](https://github.com/huggingface/tokenizers)\n",
    "    \n",
    "    \n",
    "2. Обучить word embeddings (fastText, word2vec, gloVe) на тренировочных данных. Можно использовать [gensim](https://radimrehurek.com/gensim/models/word2vec.html) . Продемонстрировать семантические ассоциации. \n",
    "\n",
    "3. Реализовать алгоритм классификации, посчитать точноть на тестовых данных, подобрать гиперпараметры. Метод векторизации выбрать произвольно - можно использовать $tf-idf$ с понижением размерности (см. scikit-learn), можно использовать обученные на предыдущем шаге векторные представления, можно использовать [предобученные модели](https://rusvectores.org/ru/models/). Имейте ввиду, что простое \"усреднение\" токенов в тексте скорее всего не даст положительных результатов. Нужно реализовать два алгоритмов из трех:\n",
    "     - SVM\n",
    "     - наивный байесовский классификатор\n",
    "     - логистическая регрессия\n",
    "    \n",
    "\n",
    "4.* Реализуйте классификацию с помощью нейросетевых моделей. Например [RuBERT](http://docs.deeppavlov.ai/en/master/features/models/bert.html) или [ELMo](https://rusvectores.org/ru/models/)."
   ]
  },
  {
   "cell_type": "code",
   "execution_count": 3,
   "metadata": {},
   "outputs": [],
   "source": [
    "lines = list(open('news/news_train.txt', 'r', encoding='utf-8'))"
   ]
  },
  {
   "cell_type": "code",
   "execution_count": 4,
   "metadata": {
    "pycharm": {
     "is_executing": false
    }
   },
   "outputs": [],
   "source": [
    "import random\n",
    "random.shuffle(lines)"
   ]
  },
  {
   "cell_type": "code",
   "execution_count": 5,
   "metadata": {
    "pycharm": {
     "is_executing": false
    }
   },
   "outputs": [],
   "source": [
    "with open('news/news_test.txt', 'w', encoding='utf-8') as f:\n",
    "    for line in lines[15000:18000]:\n",
    "        f.write(line)"
   ]
  },
  {
   "cell_type": "code",
   "execution_count": 6,
   "metadata": {
    "pycharm": {
     "is_executing": false
    }
   },
   "outputs": [
    {
     "data": {
      "text/plain": [
       "Counter({'culture': 2053,\n",
       "         'science': 2156,\n",
       "         'sport': 2215,\n",
       "         'media': 2111,\n",
       "         'economics': 2080,\n",
       "         'life': 2033,\n",
       "         'style': 284,\n",
       "         'forces': 1225,\n",
       "         'business': 554,\n",
       "         'travel': 289})"
      ]
     },
     "execution_count": 6,
     "metadata": {},
     "output_type": "execute_result"
    }
   ],
   "source": [
    "from collections import Counter\n",
    "\n",
    "Counter([line.split('\\t')[0] for line in lines[:15000]])"
   ]
  },
  {
   "cell_type": "code",
   "execution_count": 7,
   "metadata": {
    "pycharm": {
     "is_executing": false
    }
   },
   "outputs": [
    {
     "data": {
      "text/plain": [
       "'https://drive.google.com/file/d/1mG3tPS_59pANrgwd6T2IgnHWgph4vYbg/view?usp=sharing'"
      ]
     },
     "execution_count": 7,
     "metadata": {},
     "output_type": "execute_result"
    }
   ],
   "source": [
    "'https://drive.google.com/file/d/1mG3tPS_59pANrgwd6T2IgnHWgph4vYbg/view?usp=sharing'"
   ]
  },
  {
   "cell_type": "markdown",
   "metadata": {},
   "source": [
    "# 1"
   ]
  },
  {
   "cell_type": "code",
   "execution_count": 35,
   "metadata": {},
   "outputs": [],
   "source": [
    "import re\n",
    "\n",
    "import numpy as np        \n",
    "import pymorphy2\n",
    "from tqdm.notebook import tqdm"
   ]
  },
  {
   "cell_type": "code",
   "execution_count": 36,
   "metadata": {},
   "outputs": [],
   "source": [
    "def get_data(path):\n",
    "    with open(path, \"r\") as f:\n",
    "        for line in f:\n",
    "            label, headline, text = line.strip().split(\"\\t\")\n",
    "            yield label, headline, text"
   ]
  },
  {
   "cell_type": "code",
   "execution_count": 37,
   "metadata": {},
   "outputs": [],
   "source": [
    "def tokenize_text(text):\n",
    "    text = text.lower()\n",
    "    words = re.findall(r'\\b\\w+\\b', text.lower())\n",
    "    return words"
   ]
  },
  {
   "cell_type": "code",
   "execution_count": 38,
   "metadata": {},
   "outputs": [],
   "source": [
    "def prepare_data(path):\n",
    "    data = []\n",
    "    for label, headline, text in get_data(path):\n",
    "        item = {}\n",
    "        item[\"label\"] = label\n",
    "        item[\"headline\"] = tokenize_text(headline)\n",
    "        item[\"text\"] = [tokenize_text(sentance) for sentance in re.split(r\"[.!?]\", text) if len(sentance) > 10]\n",
    "        data.append(item)\n",
    "    return data"
   ]
  },
  {
   "cell_type": "code",
   "execution_count": 39,
   "metadata": {},
   "outputs": [
    {
     "data": {
      "text/plain": [
       "{'label': 'sport',\n",
       " 'headline': ['овечкин',\n",
       "  'пожертвовал',\n",
       "  'детской',\n",
       "  'хоккейной',\n",
       "  'школе',\n",
       "  'автомобиль'],\n",
       " 'text': [['нападающий',\n",
       "   'вашингтон',\n",
       "   'кэпиталз',\n",
       "   'александр',\n",
       "   'овечкин',\n",
       "   'передал',\n",
       "   'детской',\n",
       "   'хоккейной',\n",
       "   'школе',\n",
       "   'автомобиль',\n",
       "   'полученный',\n",
       "   'им',\n",
       "   'после',\n",
       "   'окончания',\n",
       "   'матча',\n",
       "   'всех',\n",
       "   'звезд',\n",
       "   'национальной',\n",
       "   'хоккейной',\n",
       "   'лиги',\n",
       "   'нхл'],\n",
       "  ['об', 'этом', 'сообщается', 'на', 'официальном', 'сайте', 'лиги'],\n",
       "  ['автомобиль',\n",
       "   'honda',\n",
       "   'accord',\n",
       "   'был',\n",
       "   'подарен',\n",
       "   'хоккеисту',\n",
       "   'по',\n",
       "   'решению',\n",
       "   'спонсоров',\n",
       "   'мероприятия'],\n",
       "  ['игрок',\n",
       "   'нхл',\n",
       "   'пожертвовал',\n",
       "   'машину',\n",
       "   'спортивной',\n",
       "   'школе',\n",
       "   'nova',\n",
       "   'cool',\n",
       "   'cats',\n",
       "   'special',\n",
       "   'hockey',\n",
       "   'inc'],\n",
       "  ['которая', 'расположена', 'в', 'штате', 'вирджиния'],\n",
       "  ['овечкин',\n",
       "   'общается',\n",
       "   'с',\n",
       "   '10',\n",
       "   'летней',\n",
       "   'девочкой',\n",
       "   'анной',\n",
       "   'шоб',\n",
       "   'с',\n",
       "   'синдромом',\n",
       "   'дауна',\n",
       "   'которая',\n",
       "   'занимается',\n",
       "   'в',\n",
       "   'этой',\n",
       "   'школе',\n",
       "   'и',\n",
       "   'является',\n",
       "   'поклонницей',\n",
       "   'спортсмена'],\n",
       "  ['в',\n",
       "   'сентябре',\n",
       "   'форвард',\n",
       "   'пообедал',\n",
       "   'вместе',\n",
       "   'с',\n",
       "   'юной',\n",
       "   'хоккеисткой',\n",
       "   'в',\n",
       "   'японском',\n",
       "   'ресторане'],\n",
       "  ['матч',\n",
       "   'всех',\n",
       "   'звезд',\n",
       "   'нхл',\n",
       "   'в',\n",
       "   'коламбусе',\n",
       "   'штат',\n",
       "   'огайо',\n",
       "   'завершился',\n",
       "   'победой',\n",
       "   'команды',\n",
       "   'джонатана',\n",
       "   'тэйвза',\n",
       "   'над',\n",
       "   'командой',\n",
       "   'ника',\n",
       "   'фолиньо',\n",
       "   'со',\n",
       "   'счетом',\n",
       "   '17',\n",
       "   '12'],\n",
       "  ['овечкин', 'выступал', 'за', 'проигравший', 'коллектив'],\n",
       "  ['россиянин', 'отметился', 'тремя', 'результативными', 'передачами']]}"
      ]
     },
     "execution_count": 39,
     "metadata": {},
     "output_type": "execute_result"
    }
   ],
   "source": [
    "data_train = prepare_data(\"news/news_train.txt\")\n",
    "data_test = prepare_data(\"news/news_test.txt\")\n",
    "data_train[0]"
   ]
  },
  {
   "cell_type": "code",
   "execution_count": 40,
   "metadata": {},
   "outputs": [
    {
     "data": {
      "application/vnd.jupyter.widget-view+json": {
       "model_id": "ccdee9bd4fe2472ab586f761a1213954",
       "version_major": 2,
       "version_minor": 0
      },
      "text/plain": [
       "HBox(children=(HTML(value=''), FloatProgress(value=0.0, max=15000.0), HTML(value='')))"
      ]
     },
     "metadata": {},
     "output_type": "display_data"
    },
    {
     "name": "stdout",
     "output_type": "stream",
     "text": [
      "\n"
     ]
    },
    {
     "data": {
      "application/vnd.jupyter.widget-view+json": {
       "model_id": "bc04f096bf934cf1a2fe4fef8f72833b",
       "version_major": 2,
       "version_minor": 0
      },
      "text/plain": [
       "HBox(children=(HTML(value=''), FloatProgress(value=0.0, max=3000.0), HTML(value='')))"
      ]
     },
     "metadata": {},
     "output_type": "display_data"
    },
    {
     "name": "stdout",
     "output_type": "stream",
     "text": [
      "\n"
     ]
    },
    {
     "data": {
      "text/plain": [
       "{'label': 'sport',\n",
       " 'headline': ['овечкин',\n",
       "  'пожертвовать',\n",
       "  'детский',\n",
       "  'хоккейный',\n",
       "  'школа',\n",
       "  'автомобиль'],\n",
       " 'text': [['нападать',\n",
       "   'вашингтон',\n",
       "   'кэпиталзти',\n",
       "   'александр',\n",
       "   'овечкин',\n",
       "   'передать',\n",
       "   'детский',\n",
       "   'хоккейный',\n",
       "   'школа',\n",
       "   'автомобиль',\n",
       "   'получить',\n",
       "   'они',\n",
       "   'после',\n",
       "   'окончание',\n",
       "   'матч',\n",
       "   'весь',\n",
       "   'звезда',\n",
       "   'национальный',\n",
       "   'хоккейный',\n",
       "   'лига',\n",
       "   'нхл'],\n",
       "  ['о', 'это', 'сообщаться', 'на', 'официальный', 'сайт', 'лига'],\n",
       "  ['автомобиль',\n",
       "   'honda',\n",
       "   'accord',\n",
       "   'быть',\n",
       "   'подарить',\n",
       "   'хоккеист',\n",
       "   'по',\n",
       "   'решение',\n",
       "   'спонсор',\n",
       "   'мероприятие'],\n",
       "  ['игрок',\n",
       "   'нхл',\n",
       "   'пожертвовать',\n",
       "   'машина',\n",
       "   'спортивный',\n",
       "   'школа',\n",
       "   'nova',\n",
       "   'cool',\n",
       "   'cats',\n",
       "   'special',\n",
       "   'hockey',\n",
       "   'inc'],\n",
       "  ['который', 'расположить', 'в', 'штат', 'вирджиния'],\n",
       "  ['овечкин',\n",
       "   'общаться',\n",
       "   'с',\n",
       "   '10',\n",
       "   'летний',\n",
       "   'девочка',\n",
       "   'анна',\n",
       "   'чтоб',\n",
       "   'с',\n",
       "   'синдром',\n",
       "   'даун',\n",
       "   'который',\n",
       "   'заниматься',\n",
       "   'в',\n",
       "   'этот',\n",
       "   'школа',\n",
       "   'и',\n",
       "   'являться',\n",
       "   'поклонница',\n",
       "   'спортсмен'],\n",
       "  ['в',\n",
       "   'сентябрь',\n",
       "   'форвард',\n",
       "   'пообедать',\n",
       "   'вместе',\n",
       "   'с',\n",
       "   'юный',\n",
       "   'хоккеистка',\n",
       "   'в',\n",
       "   'японский',\n",
       "   'ресторан'],\n",
       "  ['матч',\n",
       "   'весь',\n",
       "   'звезда',\n",
       "   'нхл',\n",
       "   'в',\n",
       "   'коламбус',\n",
       "   'штат',\n",
       "   'огайо',\n",
       "   'завершиться',\n",
       "   'победа',\n",
       "   'команда',\n",
       "   'джонатан',\n",
       "   'тэйвз',\n",
       "   'над',\n",
       "   'команда',\n",
       "   'ник',\n",
       "   'фолиньо',\n",
       "   'с',\n",
       "   'счёт',\n",
       "   '17',\n",
       "   '12'],\n",
       "  ['овечкин', 'выступать', 'за', 'проиграть', 'коллектив'],\n",
       "  ['россиянин', 'отметиться', 'три', 'результативный', 'передача']]}"
      ]
     },
     "execution_count": 40,
     "metadata": {},
     "output_type": "execute_result"
    }
   ],
   "source": [
    "def postprocess_tokens_(data):\n",
    "    morph = pymorphy2.MorphAnalyzer()\n",
    "    for item in tqdm(data):\n",
    "        item[\"headline\"] = [morph.parse(word)[0].normal_form for word in item[\"headline\"]] \n",
    "        item[\"text\"] = [[morph.parse(word)[0].normal_form for word in sentance] for sentance in item[\"text\"]] \n",
    "\n",
    "postprocess_tokens_(data_train)\n",
    "postprocess_tokens_(data_test)\n",
    "\n",
    "data_train[0]"
   ]
  },
  {
   "cell_type": "markdown",
   "metadata": {},
   "source": [
    "# 2"
   ]
  },
  {
   "cell_type": "code",
   "execution_count": 41,
   "metadata": {},
   "outputs": [],
   "source": [
    "from gensim.models import Word2Vec\n",
    "\n",
    "sentences = [item[\"headline\"] for item in data_train]\n",
    "sentences.extend([sentance for item in data_train for sentance in item[\"text\"]])\n",
    "\n",
    "w2v = Word2Vec(sentences, workers=8)"
   ]
  },
  {
   "cell_type": "code",
   "execution_count": 42,
   "metadata": {},
   "outputs": [
    {
     "name": "stdout",
     "output_type": "stream",
     "text": [
      "[('неделя', 0.7838059067726135), ('месяц', 0.7492319345474243), ('десятилетие', 0.6621922254562378), ('час', 0.6401009559631348), ('сразу', 0.6271474361419678), ('полгода', 0.5845887064933777), ('сутки', 0.5722845792770386), ('выходной', 0.5639757513999939), ('раз', 0.5376249551773071), ('утро', 0.5272594094276428)]\n"
     ]
    }
   ],
   "source": [
    "print(w2v.wv.most_similar(positive=[\"день\"]))"
   ]
  },
  {
   "cell_type": "code",
   "execution_count": 43,
   "metadata": {},
   "outputs": [
    {
     "name": "stdout",
     "output_type": "stream",
     "text": [
      "[('мутко', 0.6716254949569702), ('виталий', 0.6587919592857361), ('экспресс', 0.6397702693939209), ('самбо', 0.6362255811691284), ('озеров', 0.6245059967041016), ('зинэтула', 0.6195200681686401), ('комиссар', 0.6120494604110718), ('думский', 0.6111888885498047), ('еврокомиссар', 0.6024603247642517), ('туризм', 0.5985016822814941)]\n"
     ]
    }
   ],
   "source": [
    "print(w2v.wv.most_similar(positive=[\"спорт\"]))"
   ]
  },
  {
   "cell_type": "code",
   "execution_count": 44,
   "metadata": {},
   "outputs": [
    {
     "name": "stdout",
     "output_type": "stream",
     "text": [
      "[('композиция', 0.9322769045829773), ('клип', 0.8946064710617065), ('трек', 0.8596563339233398), ('альбом', 0.8572019338607788), ('сборник', 0.8183584809303284), ('обложка', 0.8161231875419617), ('сингл', 0.8154301643371582), ('комикс', 0.8136640191078186), ('рассказ', 0.7994940280914307), ('пластинка', 0.7938862442970276)]\n"
     ]
    }
   ],
   "source": [
    "print(w2v.wv.most_similar(positive=[\"песня\"]))"
   ]
  },
  {
   "cell_type": "markdown",
   "metadata": {},
   "source": [
    "# 3"
   ]
  },
  {
   "cell_type": "code",
   "execution_count": 45,
   "metadata": {},
   "outputs": [
    {
     "data": {
      "application/vnd.jupyter.widget-view+json": {
       "model_id": "f7d2a54a7084496ab6f3d156360af922",
       "version_major": 2,
       "version_minor": 0
      },
      "text/plain": [
       "HBox(children=(HTML(value=''), FloatProgress(value=0.0, max=15000.0), HTML(value='')))"
      ]
     },
     "metadata": {},
     "output_type": "display_data"
    },
    {
     "name": "stdout",
     "output_type": "stream",
     "text": [
      "\n"
     ]
    },
    {
     "data": {
      "application/vnd.jupyter.widget-view+json": {
       "model_id": "0c1d5029b03246909811d6d5ea2d38dd",
       "version_major": 2,
       "version_minor": 0
      },
      "text/plain": [
       "HBox(children=(HTML(value=''), FloatProgress(value=0.0, max=3000.0), HTML(value='')))"
      ]
     },
     "metadata": {},
     "output_type": "display_data"
    },
    {
     "name": "stdout",
     "output_type": "stream",
     "text": [
      "\n"
     ]
    }
   ],
   "source": [
    "max_item_len = 140\n",
    "label2idx = {}\n",
    "\n",
    "def word2vec(word):\n",
    "    if word in w2v.wv:\n",
    "        return w2v.wv[word]\n",
    "    return np.zeros((w2v.wv.vector_size,))\n",
    "\n",
    "def prepare_data(data):\n",
    "    X = []\n",
    "    y = []\n",
    "\n",
    "    for item in tqdm(data):\n",
    "        label = item[\"label\"]\n",
    "        headline = item[\"headline\"]\n",
    "        text = item[\"text\"]\n",
    "\n",
    "        label_idx = label2idx.get(label, len(label2idx))\n",
    "        label2idx[label] = label_idx\n",
    "\n",
    "        word_idx = 0\n",
    "        sent_idx = 0\n",
    "        pos_in_sent = 0\n",
    "\n",
    "        x = np.zeros(140*100)\n",
    "\n",
    "        while word_idx < max_item_len:\n",
    "            if word_idx < len(headline):\n",
    "                x[100 * word_idx: 100 * word_idx + 100] = word2vec(headline[word_idx])\n",
    "                word_idx += 1\n",
    "            else:\n",
    "                if pos_in_sent < len(text[sent_idx]):\n",
    "                    x[100 * word_idx: 100 * word_idx + 100] = word2vec(text[sent_idx][pos_in_sent])\n",
    "                    word_idx += 1\n",
    "                    pos_in_sent += 1\n",
    "                elif sent_idx < len(text) - 1:\n",
    "                    sent_idx += 1\n",
    "                    pos_in_sent = 0\n",
    "                else:\n",
    "                    word_idx += 1\n",
    "\n",
    "        X.append(x)\n",
    "        y.append(label_idx)\n",
    "    \n",
    "    return np.array(X), np.array(y)\n",
    "\n",
    "X_train, y_train = prepare_data(data_train)\n",
    "X_test, y_test = prepare_data(data_test)"
   ]
  },
  {
   "cell_type": "code",
   "execution_count": 46,
   "metadata": {},
   "outputs": [
    {
     "data": {
      "text/plain": [
       "((15000, 14000), (15000,), 0, 9)"
      ]
     },
     "execution_count": 46,
     "metadata": {},
     "output_type": "execute_result"
    }
   ],
   "source": [
    "X_train.shape, y_train.shape, y_train.min(), y_train.max()"
   ]
  },
  {
   "cell_type": "code",
   "execution_count": 47,
   "metadata": {},
   "outputs": [
    {
     "data": {
      "text/plain": [
       "((3000, 14000), (3000,), 0, 9)"
      ]
     },
     "execution_count": 47,
     "metadata": {},
     "output_type": "execute_result"
    }
   ],
   "source": [
    "X_test.shape, y_test.shape, y_test.min(), y_test.max()"
   ]
  },
  {
   "cell_type": "code",
   "execution_count": 48,
   "metadata": {},
   "outputs": [
    {
     "data": {
      "application/vnd.jupyter.widget-view+json": {
       "model_id": "9801d227f07e47c889ee745c0589fc7c",
       "version_major": 2,
       "version_minor": 0
      },
      "text/plain": [
       "HBox(children=(HTML(value=''), FloatProgress(value=0.0, max=15000.0), HTML(value='')))"
      ]
     },
     "metadata": {},
     "output_type": "display_data"
    },
    {
     "name": "stdout",
     "output_type": "stream",
     "text": [
      "\n"
     ]
    },
    {
     "data": {
      "application/vnd.jupyter.widget-view+json": {
       "model_id": "a315748b765e45d5b6943dd8be0c206f",
       "version_major": 2,
       "version_minor": 0
      },
      "text/plain": [
       "HBox(children=(HTML(value=''), FloatProgress(value=0.0, max=3000.0), HTML(value='')))"
      ]
     },
     "metadata": {},
     "output_type": "display_data"
    },
    {
     "name": "stdout",
     "output_type": "stream",
     "text": [
      "\n"
     ]
    }
   ],
   "source": [
    "def prepere_tfidf(data):\n",
    "    X = []\n",
    "    y = []\n",
    "\n",
    "    for item in tqdm(data):\n",
    "        label = item[\"label\"]\n",
    "        headline = item[\"headline\"]\n",
    "        text = item[\"text\"]\n",
    "\n",
    "        label_idx = label2idx.get(label, len(label2idx))\n",
    "        label2idx[label] = label_idx\n",
    "\n",
    "        word_idx = 0\n",
    "        sent_idx = 0\n",
    "        pos_in_sent = 0\n",
    "\n",
    "        x = []\n",
    "\n",
    "        while word_idx < max_item_len:\n",
    "            if word_idx < len(headline):\n",
    "                x.append(headline[word_idx])\n",
    "                word_idx += 1\n",
    "            else:\n",
    "                if pos_in_sent < len(text[sent_idx]):\n",
    "                    x.append(text[sent_idx][pos_in_sent])\n",
    "                    word_idx += 1\n",
    "                    pos_in_sent += 1\n",
    "                elif sent_idx < len(text) - 1:\n",
    "                    sent_idx += 1\n",
    "                    pos_in_sent = 0\n",
    "                else:\n",
    "                    x.append(\"PLACEHOLDER\")\n",
    "                    word_idx += 1\n",
    "\n",
    "        X.append(\" \".join(x))\n",
    "        y.append(label_idx)\n",
    "    \n",
    "    return X, y\n",
    "\n",
    "X_train_idf, y_train = prepere_tfidf(data_train)\n",
    "X_test_idf, y_test = prepere_tfidf(data_test)"
   ]
  },
  {
   "cell_type": "code",
   "execution_count": 49,
   "metadata": {},
   "outputs": [],
   "source": [
    "from sklearn.feature_extraction.text import TfidfVectorizer\n",
    "\n",
    "tfidf = TfidfVectorizer()\n",
    "X_train_idf = tfidf.fit_transform(X_train_idf)\n",
    "X_test_idf = tfidf.transform(X_test_idf)"
   ]
  },
  {
   "cell_type": "code",
   "execution_count": 50,
   "metadata": {},
   "outputs": [
    {
     "data": {
      "text/plain": [
       "(15000, 75061)"
      ]
     },
     "execution_count": 50,
     "metadata": {},
     "output_type": "execute_result"
    }
   ],
   "source": [
    "X_train_idf.shape"
   ]
  },
  {
   "cell_type": "code",
   "execution_count": 51,
   "metadata": {},
   "outputs": [
    {
     "name": "stdout",
     "output_type": "stream",
     "text": [
      "accuracy = 0.859\n"
     ]
    }
   ],
   "source": [
    "from sklearn.linear_model import LogisticRegression\n",
    "\n",
    "clf = LogisticRegression(n_jobs=-1)\n",
    "clf.fit(X_train_idf, y_train)\n",
    "preds = clf.predict(X_test_idf)\n",
    "print(f\"accuracy = {(y_test == preds).mean()}\")"
   ]
  },
  {
   "cell_type": "code",
   "execution_count": 52,
   "metadata": {},
   "outputs": [
    {
     "name": "stdout",
     "output_type": "stream",
     "text": [
      "accuracy = 0.798\n"
     ]
    }
   ],
   "source": [
    "from sklearn.naive_bayes import MultinomialNB\n",
    "\n",
    "clf = MultinomialNB()\n",
    "clf.fit(X_train_idf, y_train)\n",
    "preds = clf.predict(X_test_idf)\n",
    "print(f\"accuracy = {(y_test == preds).mean()}\")"
   ]
  },
  {
   "cell_type": "code",
   "execution_count": null,
   "metadata": {},
   "outputs": [],
   "source": []
  }
 ],
 "metadata": {
  "kernelspec": {
   "display_name": "Python 3",
   "language": "python",
   "name": "python3"
  },
  "language_info": {
   "codemirror_mode": {
    "name": "ipython",
    "version": 3
   },
   "file_extension": ".py",
   "mimetype": "text/x-python",
   "name": "python",
   "nbconvert_exporter": "python",
   "pygments_lexer": "ipython3",
   "version": "3.7.4"
  }
 },
 "nbformat": 4,
 "nbformat_minor": 4
}
